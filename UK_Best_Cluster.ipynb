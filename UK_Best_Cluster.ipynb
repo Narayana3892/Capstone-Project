{
    "nbformat_minor": 1, 
    "cells": [
        {
            "execution_count": 27, 
            "cell_type": "code", 
            "metadata": {}, 
            "outputs": [
                {
                    "output_type": "stream", 
                    "name": "stdout", 
                    "text": "Requirement not upgraded as not directly required: folium in /opt/conda/envs/DSX-Python35/lib/python3.5/site-packages\nRequirement not upgraded as not directly required: six in /opt/conda/envs/DSX-Python35/lib/python3.5/site-packages (from folium)\nRequirement not upgraded as not directly required: jinja2 in /opt/conda/envs/DSX-Python35/lib/python3.5/site-packages (from folium)\nRequirement not upgraded as not directly required: numpy in /opt/conda/envs/DSX-Python35/lib/python3.5/site-packages (from folium)\nRequirement not upgraded as not directly required: branca>=0.3.0 in /opt/conda/envs/DSX-Python35/lib/python3.5/site-packages (from folium)\nRequirement not upgraded as not directly required: requests in /opt/conda/envs/DSX-Python35/lib/python3.5/site-packages (from folium)\nRequirement not upgraded as not directly required: MarkupSafe>=0.23 in /opt/conda/envs/DSX-Python35/lib/python3.5/site-packages (from jinja2->folium)\nRequirement not upgraded as not directly required: chardet<3.1.0,>=3.0.2 in /opt/conda/envs/DSX-Python35/lib/python3.5/site-packages (from requests->folium)\nRequirement not upgraded as not directly required: idna<2.7,>=2.5 in /opt/conda/envs/DSX-Python35/lib/python3.5/site-packages (from requests->folium)\nRequirement not upgraded as not directly required: urllib3<1.23,>=1.21.1 in /opt/conda/envs/DSX-Python35/lib/python3.5/site-packages (from requests->folium)\nRequirement not upgraded as not directly required: certifi>=2017.4.17 in /opt/conda/envs/DSX-Python35/lib/python3.5/site-packages (from requests->folium)\n"
                }
            ], 
            "source": "from geopy.geocoders import Nominatim\n#for mapping\n!pip install folium\nimport folium  # pip install folium (if not installed)\n#for making http requests\nimport requests\n\nimport numpy as np\nimport pandas as pd\n\nfrom sklearn.cluster import KMeans\n\nimport matplotlib.cm as cm\nimport matplotlib.colors as colors\nimport matplotlib.pyplot as plt\n%matplotlib inline"
        }, 
        {
            "execution_count": 28, 
            "cell_type": "code", 
            "metadata": {}, 
            "outputs": [
                {
                    "execution_count": 28, 
                    "metadata": {}, 
                    "data": {
                        "text/html": "<div>\n<style scoped>\n    .dataframe tbody tr th:only-of-type {\n        vertical-align: middle;\n    }\n\n    .dataframe tbody tr th {\n        vertical-align: top;\n    }\n\n    .dataframe thead th {\n        text-align: right;\n    }\n</style>\n<table border=\"1\" class=\"dataframe\">\n  <thead>\n    <tr style=\"text-align: right;\">\n      <th></th>\n      <th>id</th>\n      <th>name</th>\n      <th>county</th>\n      <th>country</th>\n      <th>grid_reference</th>\n      <th>easting</th>\n      <th>northing</th>\n      <th>latitude</th>\n      <th>longitude</th>\n      <th>elevation</th>\n      <th>postcode_sector</th>\n      <th>local_government_area</th>\n      <th>nuts_region</th>\n      <th>type</th>\n    </tr>\n  </thead>\n  <tbody>\n    <tr>\n      <th>0</th>\n      <td>1</td>\n      <td>Aaron's Hill</td>\n      <td>Surrey</td>\n      <td>England</td>\n      <td>SU957435</td>\n      <td>495783</td>\n      <td>143522</td>\n      <td>51.18291</td>\n      <td>-0.63098</td>\n      <td>78</td>\n      <td>GU7 2</td>\n      <td>Waverley District</td>\n      <td>South East</td>\n      <td>Suburban Area</td>\n    </tr>\n    <tr>\n      <th>1</th>\n      <td>2</td>\n      <td>Abbas Combe</td>\n      <td>Somerset</td>\n      <td>England</td>\n      <td>ST707226</td>\n      <td>370749</td>\n      <td>122688</td>\n      <td>51.00283</td>\n      <td>-2.41825</td>\n      <td>91</td>\n      <td>BA8 0</td>\n      <td>South Somerset District</td>\n      <td>South West</td>\n      <td>Village</td>\n    </tr>\n    <tr>\n      <th>2</th>\n      <td>3</td>\n      <td>Abberley</td>\n      <td>Worcestershire</td>\n      <td>England</td>\n      <td>SO744675</td>\n      <td>374477</td>\n      <td>267522</td>\n      <td>52.30522</td>\n      <td>-2.37574</td>\n      <td>152</td>\n      <td>WR6 6</td>\n      <td>Malvern Hills District</td>\n      <td>West Midlands</td>\n      <td>Village</td>\n    </tr>\n    <tr>\n      <th>3</th>\n      <td>4</td>\n      <td>Abberton</td>\n      <td>Essex</td>\n      <td>England</td>\n      <td>TM006190</td>\n      <td>600637</td>\n      <td>219093</td>\n      <td>51.83440</td>\n      <td>0.91066</td>\n      <td>44</td>\n      <td>CO5 7</td>\n      <td>Colchester District</td>\n      <td>Eastern</td>\n      <td>Village</td>\n    </tr>\n    <tr>\n      <th>4</th>\n      <td>5</td>\n      <td>Abberton</td>\n      <td>Worcestershire</td>\n      <td>England</td>\n      <td>SO995534</td>\n      <td>399538</td>\n      <td>253477</td>\n      <td>52.17955</td>\n      <td>-2.00817</td>\n      <td>68</td>\n      <td>WR10 2</td>\n      <td>Wychavon District</td>\n      <td>West Midlands</td>\n      <td>Hamlet</td>\n    </tr>\n  </tbody>\n</table>\n</div>", 
                        "text/plain": "   id          name          county  country grid_reference  easting  \\\n0   1  Aaron's Hill          Surrey  England       SU957435   495783   \n1   2   Abbas Combe        Somerset  England       ST707226   370749   \n2   3      Abberley  Worcestershire  England       SO744675   374477   \n3   4      Abberton           Essex  England       TM006190   600637   \n4   5      Abberton  Worcestershire  England       SO995534   399538   \n\n   northing  latitude  longitude  elevation postcode_sector  \\\n0    143522  51.18291   -0.63098         78           GU7 2   \n1    122688  51.00283   -2.41825         91           BA8 0   \n2    267522  52.30522   -2.37574        152           WR6 6   \n3    219093  51.83440    0.91066         44           CO5 7   \n4    253477  52.17955   -2.00817         68          WR10 2   \n\n     local_government_area    nuts_region           type  \n0        Waverley District     South East  Suburban Area  \n1  South Somerset District     South West        Village  \n2   Malvern Hills District  West Midlands        Village  \n3      Colchester District        Eastern        Village  \n4        Wychavon District  West Midlands         Hamlet  "
                    }, 
                    "output_type": "execute_result"
                }
            ], 
            "source": "# The code was removed by Watson Studio for sharing."
        }, 
        {
            "execution_count": 29, 
            "cell_type": "code", 
            "metadata": {}, 
            "outputs": [], 
            "source": "df = df.drop(\"id\", axis = 1)\ndf = df.drop(\"grid_reference\", axis = 1)\ndf = df.drop(\"easting\", axis = 1)\ndf = df.drop(\"northing\", axis = 1)\ndf = df.drop(\"elevation\", axis = 1)\ndf = df.drop(\"type\", axis = 1)"
        }, 
        {
            "execution_count": 30, 
            "cell_type": "code", 
            "metadata": {}, 
            "outputs": [], 
            "source": "df = df.drop(\"local_government_area\", axis = 1)"
        }, 
        {
            "execution_count": 36, 
            "cell_type": "code", 
            "metadata": {}, 
            "outputs": [
                {
                    "execution_count": 36, 
                    "metadata": {}, 
                    "data": {
                        "text/html": "<div>\n<style scoped>\n    .dataframe tbody tr th:only-of-type {\n        vertical-align: middle;\n    }\n\n    .dataframe tbody tr th {\n        vertical-align: top;\n    }\n\n    .dataframe thead th {\n        text-align: right;\n    }\n</style>\n<table border=\"1\" class=\"dataframe\">\n  <thead>\n    <tr style=\"text-align: right;\">\n      <th></th>\n      <th>postcode_sector</th>\n      <th>nuts_region</th>\n      <th>name</th>\n      <th>county</th>\n      <th>latitude</th>\n      <th>longitude</th>\n    </tr>\n  </thead>\n  <tbody>\n    <tr>\n      <th>0</th>\n      <td>GU7 2</td>\n      <td>South East</td>\n      <td>Aaron's Hill</td>\n      <td>Surrey</td>\n      <td>51.18291</td>\n      <td>-0.63098</td>\n    </tr>\n    <tr>\n      <th>1</th>\n      <td>BA8 0</td>\n      <td>South West</td>\n      <td>Abbas Combe</td>\n      <td>Somerset</td>\n      <td>51.00283</td>\n      <td>-2.41825</td>\n    </tr>\n    <tr>\n      <th>2</th>\n      <td>WR6 6</td>\n      <td>West Midlands</td>\n      <td>Abberley</td>\n      <td>Worcestershire</td>\n      <td>52.30522</td>\n      <td>-2.37574</td>\n    </tr>\n    <tr>\n      <th>3</th>\n      <td>CO5 7</td>\n      <td>Eastern</td>\n      <td>Abberton</td>\n      <td>Essex</td>\n      <td>51.83440</td>\n      <td>0.91066</td>\n    </tr>\n    <tr>\n      <th>4</th>\n      <td>WR10 2</td>\n      <td>West Midlands</td>\n      <td>Abberton</td>\n      <td>Worcestershire</td>\n      <td>52.17955</td>\n      <td>-2.00817</td>\n    </tr>\n    <tr>\n      <th>5</th>\n      <td>NE66 2</td>\n      <td>North East</td>\n      <td>Abberwick</td>\n      <td>Northumberland</td>\n      <td>55.41325</td>\n      <td>-1.79720</td>\n    </tr>\n    <tr>\n      <th>6</th>\n      <td>CM5 0</td>\n      <td>Eastern</td>\n      <td>Abbess End</td>\n      <td>Essex</td>\n      <td>51.78000</td>\n      <td>0.28172</td>\n    </tr>\n    <tr>\n      <th>7</th>\n      <td>CM5 0</td>\n      <td>Eastern</td>\n      <td>Abbess Roding</td>\n      <td>Essex</td>\n      <td>51.77815</td>\n      <td>0.27685</td>\n    </tr>\n    <tr>\n      <th>8</th>\n      <td>EX14 4</td>\n      <td>South West</td>\n      <td>Abbey</td>\n      <td>Devon</td>\n      <td>50.88896</td>\n      <td>-3.22276</td>\n    </tr>\n    <tr>\n      <th>10</th>\n      <td>GL4 4</td>\n      <td>South West</td>\n      <td>Abbeydale</td>\n      <td>Gloucestershire</td>\n      <td>51.84615</td>\n      <td>-2.19922</td>\n    </tr>\n  </tbody>\n</table>\n</div>", 
                        "text/plain": "   postcode_sector    nuts_region           name           county  latitude  \\\n0            GU7 2     South East   Aaron's Hill           Surrey  51.18291   \n1            BA8 0     South West    Abbas Combe         Somerset  51.00283   \n2            WR6 6  West Midlands       Abberley   Worcestershire  52.30522   \n3            CO5 7        Eastern       Abberton            Essex  51.83440   \n4           WR10 2  West Midlands       Abberton   Worcestershire  52.17955   \n5           NE66 2     North East      Abberwick   Northumberland  55.41325   \n6            CM5 0        Eastern     Abbess End            Essex  51.78000   \n7            CM5 0        Eastern  Abbess Roding            Essex  51.77815   \n8           EX14 4     South West          Abbey            Devon  50.88896   \n10           GL4 4     South West      Abbeydale  Gloucestershire  51.84615   \n\n    longitude  \n0    -0.63098  \n1    -2.41825  \n2    -2.37574  \n3     0.91066  \n4    -2.00817  \n5    -1.79720  \n6     0.28172  \n7     0.27685  \n8    -3.22276  \n10   -2.19922  "
                    }, 
                    "output_type": "execute_result"
                }
            ], 
            "source": "df.head(10)"
        }, 
        {
            "execution_count": 32, 
            "cell_type": "code", 
            "metadata": {}, 
            "outputs": [], 
            "source": "df = df[df.country == \"England\"]"
        }, 
        {
            "execution_count": 33, 
            "cell_type": "code", 
            "metadata": {}, 
            "outputs": [], 
            "source": "df = df.drop(\"country\", axis = 1)"
        }, 
        {
            "execution_count": 35, 
            "cell_type": "code", 
            "metadata": {}, 
            "outputs": [], 
            "source": "fixed_columns = [df.columns[-1]] + list(df.columns[:-1])\ndf = df[fixed_columns]"
        }, 
        {
            "execution_count": 37, 
            "cell_type": "code", 
            "metadata": {}, 
            "outputs": [], 
            "source": "df = df.drop(\"county\", axis = 1)"
        }, 
        {
            "execution_count": 42, 
            "cell_type": "code", 
            "metadata": {}, 
            "outputs": [], 
            "source": "df = df.rename(index=str, columns={\"postcode_sector\": \"Postcode\", \"nuts_region\": \"Borough\", \"name\": \"Neighbourhood\", \"latitude\": \"Latitude\", \"longitude\": \"Longitude\"})"
        }, 
        {
            "execution_count": 43, 
            "cell_type": "code", 
            "metadata": {}, 
            "outputs": [
                {
                    "execution_count": 43, 
                    "metadata": {}, 
                    "data": {
                        "text/html": "<div>\n<style scoped>\n    .dataframe tbody tr th:only-of-type {\n        vertical-align: middle;\n    }\n\n    .dataframe tbody tr th {\n        vertical-align: top;\n    }\n\n    .dataframe thead th {\n        text-align: right;\n    }\n</style>\n<table border=\"1\" class=\"dataframe\">\n  <thead>\n    <tr style=\"text-align: right;\">\n      <th></th>\n      <th>Postcode</th>\n      <th>Borough</th>\n      <th>Neighbourhood</th>\n      <th>Latitude</th>\n      <th>Longitude</th>\n    </tr>\n  </thead>\n  <tbody>\n    <tr>\n      <th>0</th>\n      <td>GU7 2</td>\n      <td>South East</td>\n      <td>Aaron's Hill</td>\n      <td>51.18291</td>\n      <td>-0.63098</td>\n    </tr>\n    <tr>\n      <th>1</th>\n      <td>BA8 0</td>\n      <td>South West</td>\n      <td>Abbas Combe</td>\n      <td>51.00283</td>\n      <td>-2.41825</td>\n    </tr>\n    <tr>\n      <th>2</th>\n      <td>WR6 6</td>\n      <td>West Midlands</td>\n      <td>Abberley</td>\n      <td>52.30522</td>\n      <td>-2.37574</td>\n    </tr>\n    <tr>\n      <th>3</th>\n      <td>CO5 7</td>\n      <td>Eastern</td>\n      <td>Abberton</td>\n      <td>51.83440</td>\n      <td>0.91066</td>\n    </tr>\n    <tr>\n      <th>4</th>\n      <td>WR10 2</td>\n      <td>West Midlands</td>\n      <td>Abberton</td>\n      <td>52.17955</td>\n      <td>-2.00817</td>\n    </tr>\n  </tbody>\n</table>\n</div>", 
                        "text/plain": "  Postcode        Borough Neighbourhood  Latitude  Longitude\n0    GU7 2     South East  Aaron's Hill  51.18291   -0.63098\n1    BA8 0     South West   Abbas Combe  51.00283   -2.41825\n2    WR6 6  West Midlands      Abberley  52.30522   -2.37574\n3    CO5 7        Eastern      Abberton  51.83440    0.91066\n4   WR10 2  West Midlands      Abberton  52.17955   -2.00817"
                    }, 
                    "output_type": "execute_result"
                }
            ], 
            "source": "df.head()"
        }, 
        {
            "execution_count": 44, 
            "cell_type": "code", 
            "metadata": {}, 
            "outputs": [], 
            "source": "df.to_csv(\"Neighbor_uk_coords.csv\")"
        }, 
        {
            "execution_count": null, 
            "cell_type": "code", 
            "metadata": {}, 
            "outputs": [], 
            "source": ""
        }
    ], 
    "metadata": {
        "kernelspec": {
            "display_name": "Python 3.5", 
            "name": "python3", 
            "language": "python"
        }, 
        "language_info": {
            "mimetype": "text/x-python", 
            "nbconvert_exporter": "python", 
            "version": "3.5.5", 
            "name": "python", 
            "file_extension": ".py", 
            "pygments_lexer": "ipython3", 
            "codemirror_mode": {
                "version": 3, 
                "name": "ipython"
            }
        }
    }, 
    "nbformat": 4
}